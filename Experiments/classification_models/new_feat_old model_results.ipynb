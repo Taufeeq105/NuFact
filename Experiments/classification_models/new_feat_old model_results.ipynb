{
 "cells": [
  {
   "cell_type": "code",
   "execution_count": 127,
   "id": "4c0a1c04-c7f9-4274-ae37-f311528fc63f",
   "metadata": {},
   "outputs": [],
   "source": [
    "import torch\n",
    "import re\n",
    "import json\n",
    "import pandas as pd\n",
    "import random\n",
    "import time\n",
    "import math\n",
    "import os\n",
    "import numpy as np\n",
    "import torch.nn as nn\n",
    "import torch.optim as optim\n",
    "import matplotlib.pyplot as plt\n",
    "from collections import Counter\n",
    "from sklearn.metrics import roc_curve, auc\n",
    "from torch.utils.data import Dataset, DataLoader, TensorDataset\n",
    "from sklearn.model_selection import train_test_split\n",
    "from sklearn.metrics import roc_curve, precision_score, recall_score, f1_score\n",
    "from sklearn.metrics import accuracy_score, confusion_matrix, classification_report, roc_auc_score, roc_curve"
   ]
  },
  {
   "cell_type": "code",
   "execution_count": 128,
   "id": "383b96e8-02e8-4297-a281-491e622d539d",
   "metadata": {},
   "outputs": [],
   "source": [
    "path = '/home/user/Videos/data.csv'\n",
    "result = pd.read_csv(path,index_col=0)"
   ]
  },
  {
   "cell_type": "code",
   "execution_count": 129,
   "id": "6c99694a-89e7-454b-87f5-f70268efa1a5",
   "metadata": {},
   "outputs": [
    {
     "data": {
      "text/html": [
       "<div>\n",
       "<style scoped>\n",
       "    .dataframe tbody tr th:only-of-type {\n",
       "        vertical-align: middle;\n",
       "    }\n",
       "\n",
       "    .dataframe tbody tr th {\n",
       "        vertical-align: top;\n",
       "    }\n",
       "\n",
       "    .dataframe thead th {\n",
       "        text-align: right;\n",
       "    }\n",
       "</style>\n",
       "<table border=\"1\" class=\"dataframe\">\n",
       "  <thead>\n",
       "    <tr style=\"text-align: right;\">\n",
       "      <th></th>\n",
       "      <th>0</th>\n",
       "      <th>1</th>\n",
       "      <th>2</th>\n",
       "      <th>3</th>\n",
       "      <th>4</th>\n",
       "      <th>5</th>\n",
       "      <th>6</th>\n",
       "      <th>7</th>\n",
       "      <th>8</th>\n",
       "      <th>9</th>\n",
       "      <th>10</th>\n",
       "      <th>11</th>\n",
       "      <th>label</th>\n",
       "    </tr>\n",
       "  </thead>\n",
       "  <tbody>\n",
       "    <tr>\n",
       "      <th>0</th>\n",
       "      <td>0.683735</td>\n",
       "      <td>1.000000</td>\n",
       "      <td>6</td>\n",
       "      <td>6</td>\n",
       "      <td>6</td>\n",
       "      <td>0.545455</td>\n",
       "      <td>10</td>\n",
       "      <td>10</td>\n",
       "      <td>6</td>\n",
       "      <td>1</td>\n",
       "      <td>0.571429</td>\n",
       "      <td>0.5</td>\n",
       "      <td>1</td>\n",
       "    </tr>\n",
       "    <tr>\n",
       "      <th>1</th>\n",
       "      <td>0.683735</td>\n",
       "      <td>1.000000</td>\n",
       "      <td>6</td>\n",
       "      <td>6</td>\n",
       "      <td>6</td>\n",
       "      <td>0.545455</td>\n",
       "      <td>10</td>\n",
       "      <td>10</td>\n",
       "      <td>6</td>\n",
       "      <td>1</td>\n",
       "      <td>0.571429</td>\n",
       "      <td>0.5</td>\n",
       "      <td>1</td>\n",
       "    </tr>\n",
       "    <tr>\n",
       "      <th>2</th>\n",
       "      <td>0.572509</td>\n",
       "      <td>0.500000</td>\n",
       "      <td>1</td>\n",
       "      <td>1</td>\n",
       "      <td>1</td>\n",
       "      <td>0.500000</td>\n",
       "      <td>1</td>\n",
       "      <td>1</td>\n",
       "      <td>1</td>\n",
       "      <td>1</td>\n",
       "      <td>1.000000</td>\n",
       "      <td>1.0</td>\n",
       "      <td>1</td>\n",
       "    </tr>\n",
       "    <tr>\n",
       "      <th>3</th>\n",
       "      <td>0.884629</td>\n",
       "      <td>1.000000</td>\n",
       "      <td>2</td>\n",
       "      <td>2</td>\n",
       "      <td>1</td>\n",
       "      <td>0.500000</td>\n",
       "      <td>3</td>\n",
       "      <td>2</td>\n",
       "      <td>1</td>\n",
       "      <td>1</td>\n",
       "      <td>1.000000</td>\n",
       "      <td>1.0</td>\n",
       "      <td>1</td>\n",
       "    </tr>\n",
       "    <tr>\n",
       "      <th>4</th>\n",
       "      <td>0.591580</td>\n",
       "      <td>0.666667</td>\n",
       "      <td>2</td>\n",
       "      <td>2</td>\n",
       "      <td>2</td>\n",
       "      <td>0.000000</td>\n",
       "      <td>2</td>\n",
       "      <td>2</td>\n",
       "      <td>2</td>\n",
       "      <td>1</td>\n",
       "      <td>0.000000</td>\n",
       "      <td>0.0</td>\n",
       "      <td>1</td>\n",
       "    </tr>\n",
       "  </tbody>\n",
       "</table>\n",
       "</div>"
      ],
      "text/plain": [
       "          0         1  2  3  4         5   6   7  8  9        10   11  label\n",
       "0  0.683735  1.000000  6  6  6  0.545455  10  10  6  1  0.571429  0.5      1\n",
       "1  0.683735  1.000000  6  6  6  0.545455  10  10  6  1  0.571429  0.5      1\n",
       "2  0.572509  0.500000  1  1  1  0.500000   1   1  1  1  1.000000  1.0      1\n",
       "3  0.884629  1.000000  2  2  1  0.500000   3   2  1  1  1.000000  1.0      1\n",
       "4  0.591580  0.666667  2  2  2  0.000000   2   2  2  1  0.000000  0.0      1"
      ]
     },
     "execution_count": 129,
     "metadata": {},
     "output_type": "execute_result"
    }
   ],
   "source": [
    "result.head()"
   ]
  },
  {
   "cell_type": "code",
   "execution_count": 130,
   "id": "0c6c38c9-3f7d-45e3-b851-54f24a58ec51",
   "metadata": {},
   "outputs": [],
   "source": [
    "y = result['label']\n",
    "X = result.drop(['label'],axis=1)"
   ]
  },
  {
   "cell_type": "code",
   "execution_count": 131,
   "id": "14725c63-2d5a-4ed7-8325-52b67143f1b0",
   "metadata": {},
   "outputs": [],
   "source": [
    "X_train, X_test, y_train, y_test = train_test_split(X, y, test_size=0.1, random_state=42)"
   ]
  },
  {
   "cell_type": "code",
   "execution_count": 132,
   "id": "1ba67d62-5927-4196-90cc-0a7f8ee368d8",
   "metadata": {},
   "outputs": [],
   "source": [
    "X_train = X_train.values if isinstance(X_train, pd.DataFrame) else X_train\n",
    "y_train = y_train.values.reshape(-1, 1) if isinstance(y_train, pd.Series) else y_train\n",
    "X_test = X_test.values if isinstance(X_test, pd.DataFrame) else X_test\n",
    "y_test = y_test.values.reshape(-1, 1) if isinstance(y_test, pd.Series) else y_test"
   ]
  },
  {
   "cell_type": "code",
   "execution_count": 133,
   "id": "74e97627-109e-4533-8abc-75970c0921d8",
   "metadata": {},
   "outputs": [],
   "source": [
    "X_train_tensor = torch.tensor(X_train, dtype=torch.float32)\n",
    "y_train_tensor = torch.tensor(y_train, dtype=torch.float32)\n",
    "X_test_tensor = torch.tensor(X_test, dtype=torch.float32)\n",
    "y_test_tensor = torch.tensor(y_test, dtype=torch.float32)"
   ]
  },
  {
   "cell_type": "code",
   "execution_count": 134,
   "id": "b66cc88e-3981-474a-8a3b-4928a379b34f",
   "metadata": {},
   "outputs": [],
   "source": [
    "test_data = TensorDataset(X_test_tensor, y_test_tensor)\n",
    "test_loader = DataLoader(test_data, batch_size=32, shuffle=False)"
   ]
  },
  {
   "cell_type": "code",
   "execution_count": 135,
   "id": "a75b2d36-bd58-4edb-86ef-d8f4aa89c556",
   "metadata": {},
   "outputs": [],
   "source": [
    "train_data = TensorDataset(X_train_tensor, y_train_tensor)\n",
    "train_loader = DataLoader(train_data, batch_size=32, shuffle=True)"
   ]
  },
  {
   "cell_type": "code",
   "execution_count": 136,
   "id": "9eef906e-188f-4ea2-8c10-cc7617ff5ac3",
   "metadata": {},
   "outputs": [
    {
     "data": {
      "text/plain": [
       "12"
      ]
     },
     "execution_count": 136,
     "metadata": {},
     "output_type": "execute_result"
    }
   ],
   "source": [
    "X_train.shape[1]"
   ]
  },
  {
   "cell_type": "code",
   "execution_count": 137,
   "id": "7817bea2-c822-458d-9bf1-fab1a9c09954",
   "metadata": {},
   "outputs": [],
   "source": [
    "class NeuralNetwork(nn.Module):\n",
    "    def __init__(self):\n",
    "        super(NeuralNetwork, self).__init__()\n",
    "\n",
    "        # Define image classification layers\n",
    "        self.image_classification_layer = nn.Sequential(\n",
    "            nn.Linear(X_train.shape[1], 512),\n",
    "            nn.BatchNorm1d(512),\n",
    "            nn.ReLU(),\n",
    "            nn.Dropout(0.50),\n",
    "            nn.Linear(512, 512)\n",
    "        )\n",
    "\n",
    "        # Define final classification layer\n",
    "        self.final_classification_layer = nn.Sequential(\n",
    "            nn.Linear(512, 512),\n",
    "            nn.BatchNorm1d(512),\n",
    "            nn.ReLU(),\n",
    "            nn.Dropout(0.50),\n",
    "            nn.Linear(512, 1)\n",
    "        )\n",
    "\n",
    "    def forward(self, x):\n",
    "        x = x.view(x.size(0), -1)  # Flatten the input image tensor\n",
    "        image_embedding = self.image_classification_layer(x)\n",
    "        z = torch.cat([image_embedding], 1)\n",
    "        return torch.sigmoid(self.final_classification_layer(z))"
   ]
  },
  {
   "cell_type": "code",
   "execution_count": 138,
   "id": "cfaf3eb1-b1c9-49be-96ac-23cce49d033d",
   "metadata": {},
   "outputs": [],
   "source": [
    "model = NeuralNetwork()\n",
    "criteria = nn.BCELoss()  # Assuming binary classification\n",
    "optimizer = optim.Adam(model.parameters(), lr=0.01)"
   ]
  },
  {
   "cell_type": "code",
   "execution_count": 139,
   "id": "95f60d73-6d86-48e2-8548-acd87f7f0522",
   "metadata": {},
   "outputs": [],
   "source": [
    "epochs = 100"
   ]
  },
  {
   "cell_type": "code",
   "execution_count": 140,
   "id": "fc3b1a14-2389-48ab-8889-da8c697552ff",
   "metadata": {},
   "outputs": [],
   "source": [
    "losses = []"
   ]
  },
  {
   "cell_type": "code",
   "execution_count": 141,
   "id": "b6e20b1b-78bf-4488-b996-c516799f3a26",
   "metadata": {
    "scrolled": true
   },
   "outputs": [
    {
     "name": "stdout",
     "output_type": "stream",
     "text": [
      "Epoch 1/100, Test Loss: 0.2129, Accuracy: 89.09%\n",
      "Epoch 2/100, Test Loss: 0.1843, Accuracy: 93.33%\n",
      "Epoch 3/100, Test Loss: 0.1773, Accuracy: 93.94%\n",
      "Epoch 4/100, Test Loss: 0.1608, Accuracy: 95.15%\n",
      "Epoch 5/100, Test Loss: 0.1532, Accuracy: 93.33%\n",
      "Epoch 6/100, Test Loss: 0.1652, Accuracy: 93.94%\n",
      "Epoch 7/100, Test Loss: 0.1712, Accuracy: 95.76%\n",
      "Epoch 8/100, Test Loss: 0.1733, Accuracy: 95.15%\n",
      "Epoch 9/100, Test Loss: 0.1630, Accuracy: 93.33%\n",
      "Epoch 10/100, Test Loss: 0.1483, Accuracy: 95.76%\n",
      "Epoch 11/100, Test Loss: 0.1562, Accuracy: 94.55%\n",
      "Epoch 12/100, Test Loss: 0.1585, Accuracy: 94.55%\n",
      "Epoch 13/100, Test Loss: 0.1556, Accuracy: 94.55%\n",
      "Epoch 14/100, Test Loss: 0.2296, Accuracy: 93.94%\n",
      "Epoch 15/100, Test Loss: 0.1689, Accuracy: 94.55%\n",
      "Epoch 16/100, Test Loss: 0.1426, Accuracy: 95.15%\n",
      "Epoch 17/100, Test Loss: 0.1384, Accuracy: 94.55%\n",
      "Epoch 18/100, Test Loss: 0.1513, Accuracy: 95.15%\n",
      "Epoch 19/100, Test Loss: 0.1442, Accuracy: 95.76%\n",
      "Epoch 20/100, Test Loss: 0.1549, Accuracy: 95.15%\n",
      "Epoch 21/100, Test Loss: 0.1585, Accuracy: 93.94%\n",
      "Epoch 22/100, Test Loss: 0.1887, Accuracy: 93.33%\n",
      "Epoch 23/100, Test Loss: 0.1587, Accuracy: 93.33%\n",
      "Epoch 24/100, Test Loss: 0.1442, Accuracy: 95.15%\n",
      "Epoch 25/100, Test Loss: 0.1841, Accuracy: 93.33%\n",
      "Epoch 26/100, Test Loss: 0.1681, Accuracy: 92.73%\n",
      "Epoch 27/100, Test Loss: 0.1895, Accuracy: 93.33%\n",
      "Epoch 28/100, Test Loss: 0.1957, Accuracy: 93.33%\n",
      "Epoch 29/100, Test Loss: 0.1574, Accuracy: 94.55%\n",
      "Epoch 30/100, Test Loss: 0.1942, Accuracy: 94.55%\n",
      "Epoch 31/100, Test Loss: 0.1820, Accuracy: 93.94%\n",
      "Epoch 32/100, Test Loss: 0.2157, Accuracy: 90.30%\n",
      "Epoch 33/100, Test Loss: 0.1419, Accuracy: 95.15%\n",
      "Epoch 34/100, Test Loss: 0.1628, Accuracy: 94.55%\n",
      "Epoch 35/100, Test Loss: 0.1551, Accuracy: 94.55%\n",
      "Epoch 36/100, Test Loss: 0.1627, Accuracy: 93.33%\n",
      "Epoch 37/100, Test Loss: 0.1777, Accuracy: 94.55%\n",
      "Epoch 38/100, Test Loss: 0.1844, Accuracy: 95.76%\n",
      "Epoch 39/100, Test Loss: 0.1463, Accuracy: 95.76%\n",
      "Epoch 40/100, Test Loss: 0.1430, Accuracy: 95.76%\n",
      "Epoch 41/100, Test Loss: 0.1894, Accuracy: 92.73%\n",
      "Epoch 42/100, Test Loss: 0.1888, Accuracy: 95.76%\n",
      "Epoch 43/100, Test Loss: 0.1604, Accuracy: 93.33%\n",
      "Epoch 44/100, Test Loss: 0.2185, Accuracy: 93.33%\n",
      "Epoch 45/100, Test Loss: 0.1533, Accuracy: 95.76%\n",
      "Epoch 46/100, Test Loss: 0.1775, Accuracy: 93.33%\n",
      "Epoch 47/100, Test Loss: 0.1373, Accuracy: 96.36%\n",
      "Epoch 48/100, Test Loss: 0.1667, Accuracy: 94.55%\n",
      "Epoch 49/100, Test Loss: 0.1619, Accuracy: 94.55%\n",
      "Epoch 50/100, Test Loss: 0.1476, Accuracy: 96.36%\n",
      "Epoch 51/100, Test Loss: 0.1809, Accuracy: 94.55%\n",
      "Epoch 52/100, Test Loss: 0.1626, Accuracy: 95.15%\n",
      "Epoch 53/100, Test Loss: 0.1912, Accuracy: 92.73%\n",
      "Epoch 54/100, Test Loss: 0.2380, Accuracy: 91.52%\n",
      "Epoch 55/100, Test Loss: 0.1665, Accuracy: 94.55%\n",
      "Epoch 56/100, Test Loss: 0.1743, Accuracy: 95.76%\n",
      "Epoch 57/100, Test Loss: 0.1828, Accuracy: 95.76%\n",
      "Epoch 58/100, Test Loss: 0.2110, Accuracy: 92.73%\n",
      "Epoch 59/100, Test Loss: 0.1743, Accuracy: 95.15%\n",
      "Epoch 60/100, Test Loss: 0.1941, Accuracy: 93.94%\n",
      "Epoch 61/100, Test Loss: 0.1929, Accuracy: 95.15%\n",
      "Epoch 62/100, Test Loss: 0.2153, Accuracy: 92.12%\n",
      "Epoch 63/100, Test Loss: 0.2287, Accuracy: 94.55%\n",
      "Epoch 64/100, Test Loss: 0.1819, Accuracy: 95.15%\n",
      "Epoch 65/100, Test Loss: 0.2169, Accuracy: 95.76%\n",
      "Epoch 66/100, Test Loss: 0.6222, Accuracy: 95.76%\n",
      "Epoch 67/100, Test Loss: 0.1728, Accuracy: 95.76%\n",
      "Epoch 68/100, Test Loss: 0.6228, Accuracy: 95.15%\n",
      "Epoch 69/100, Test Loss: 0.6671, Accuracy: 94.55%\n",
      "Epoch 70/100, Test Loss: 0.2589, Accuracy: 93.33%\n",
      "Epoch 71/100, Test Loss: 0.1480, Accuracy: 96.97%\n",
      "Epoch 72/100, Test Loss: 0.1888, Accuracy: 95.15%\n",
      "Epoch 73/100, Test Loss: 0.1938, Accuracy: 94.55%\n",
      "Epoch 74/100, Test Loss: 0.6982, Accuracy: 93.33%\n",
      "Epoch 75/100, Test Loss: 0.6528, Accuracy: 95.15%\n",
      "Epoch 76/100, Test Loss: 0.6630, Accuracy: 96.36%\n",
      "Epoch 77/100, Test Loss: 0.2128, Accuracy: 93.94%\n",
      "Epoch 78/100, Test Loss: 0.6313, Accuracy: 94.55%\n",
      "Epoch 79/100, Test Loss: 0.6251, Accuracy: 95.76%\n",
      "Epoch 80/100, Test Loss: 0.6333, Accuracy: 95.76%\n",
      "Epoch 81/100, Test Loss: 0.6323, Accuracy: 95.76%\n",
      "Epoch 82/100, Test Loss: 0.6385, Accuracy: 95.76%\n",
      "Epoch 83/100, Test Loss: 0.6526, Accuracy: 92.73%\n",
      "Epoch 84/100, Test Loss: 0.6195, Accuracy: 96.36%\n",
      "Epoch 85/100, Test Loss: 0.6348, Accuracy: 95.76%\n",
      "Epoch 86/100, Test Loss: 0.6553, Accuracy: 94.55%\n",
      "Epoch 87/100, Test Loss: 0.1976, Accuracy: 95.15%\n",
      "Epoch 88/100, Test Loss: 0.6551, Accuracy: 93.94%\n",
      "Epoch 89/100, Test Loss: 0.6113, Accuracy: 96.36%\n",
      "Epoch 90/100, Test Loss: 0.6419, Accuracy: 95.15%\n",
      "Epoch 91/100, Test Loss: 0.6055, Accuracy: 96.97%\n",
      "Epoch 92/100, Test Loss: 0.6277, Accuracy: 93.94%\n",
      "Epoch 93/100, Test Loss: 0.6043, Accuracy: 96.36%\n",
      "Epoch 94/100, Test Loss: 0.6369, Accuracy: 93.33%\n",
      "Epoch 95/100, Test Loss: 0.6333, Accuracy: 94.55%\n",
      "Epoch 96/100, Test Loss: 0.6301, Accuracy: 95.15%\n",
      "Epoch 97/100, Test Loss: 0.6305, Accuracy: 95.15%\n",
      "Epoch 98/100, Test Loss: 0.6502, Accuracy: 92.73%\n",
      "Epoch 99/100, Test Loss: 0.6390, Accuracy: 93.33%\n",
      "Epoch 100/100, Test Loss: 0.6144, Accuracy: 95.76%\n"
     ]
    }
   ],
   "source": [
    "for epoch in range(epochs):\n",
    "    for batch_X, batch_y in train_loader:\n",
    "        # Forward pass\n",
    "        outputs = model(batch_X)\n",
    "\n",
    "        # Compute the loss\n",
    "        batch_y = batch_y.view(-1, 1)\n",
    "        loss = criteria(outputs, batch_y.float())  # Assuming binary classification\n",
    "\n",
    "        # Backward pass and optimization\n",
    "        optimizer.zero_grad()\n",
    "        loss.backward()\n",
    "        optimizer.step()\n",
    "\n",
    "        # Print loss or other metrics if desired\n",
    "        # print(f\"Epoch {epoch+1}/{epochs}, Loss: {loss.item()}\")\n",
    "    losses.append(loss.item())\n",
    "    \n",
    "    model.eval()  # Set model to evaluation mode\n",
    "    test_loss = 0.0\n",
    "    correct = 0\n",
    "    total = 0\n",
    "\n",
    "    with torch.no_grad():\n",
    "        for test_X, test_y in test_loader:\n",
    "            outputs = model(test_X)\n",
    "            test_y = test_y.view(-1, 1)\n",
    "\n",
    "            # Compute test loss\n",
    "            loss = criteria(outputs, test_y.float())\n",
    "            test_loss += loss.item()\n",
    "\n",
    "            # Binary classification: convert outputs to predicted labels\n",
    "            predicted = (outputs >= 0.5).float()  # Assuming threshold of 0.5 for binary\n",
    "            correct += (predicted == test_y).sum().item()\n",
    "            total += test_y.size(0)\n",
    "\n",
    "    # Calculate average test loss and accuracy for the epoch\n",
    "    test_loss /= len(test_loader)\n",
    "    accuracy = 100 * correct / total\n",
    "    print(f\"Epoch {epoch+1}/{epochs}, Test Loss: {test_loss:.4f}, Accuracy: {accuracy:.2f}%\")"
   ]
  },
  {
   "cell_type": "code",
   "execution_count": 142,
   "id": "8063d16a-6177-48e0-a4f8-ff0a5d08df13",
   "metadata": {},
   "outputs": [],
   "source": [
    "# X_test_tensor = torch.tensor(X_test, dtype=torch.float32)\n",
    "# y_test_tensor = torch.tensor(y_test, dtype=torch.float32)"
   ]
  },
  {
   "cell_type": "code",
   "execution_count": 143,
   "id": "331c215b-c3aa-4ec3-a5d6-149567cf9e4e",
   "metadata": {},
   "outputs": [
    {
     "data": {
      "text/plain": [
       "NeuralNetwork(\n",
       "  (image_classification_layer): Sequential(\n",
       "    (0): Linear(in_features=12, out_features=512, bias=True)\n",
       "    (1): BatchNorm1d(512, eps=1e-05, momentum=0.1, affine=True, track_running_stats=True)\n",
       "    (2): ReLU()\n",
       "    (3): Dropout(p=0.5, inplace=False)\n",
       "    (4): Linear(in_features=512, out_features=512, bias=True)\n",
       "  )\n",
       "  (final_classification_layer): Sequential(\n",
       "    (0): Linear(in_features=512, out_features=512, bias=True)\n",
       "    (1): BatchNorm1d(512, eps=1e-05, momentum=0.1, affine=True, track_running_stats=True)\n",
       "    (2): ReLU()\n",
       "    (3): Dropout(p=0.5, inplace=False)\n",
       "    (4): Linear(in_features=512, out_features=1, bias=True)\n",
       "  )\n",
       ")"
      ]
     },
     "execution_count": 143,
     "metadata": {},
     "output_type": "execute_result"
    }
   ],
   "source": [
    "model.eval()"
   ]
  },
  {
   "cell_type": "code",
   "execution_count": 144,
   "id": "e5d9d1c2-c0cc-4dab-aa07-7ad970c98edc",
   "metadata": {},
   "outputs": [],
   "source": [
    "def plot_auroc(y_true, y_scores):\n",
    "    \"\"\"\n",
    "    Plots the AUROC curve for given true labels and predicted scores.\n",
    "    \n",
    "    Parameters:\n",
    "    - y_true: Ground truth binary labels (0 or 1) as a tensor or array\n",
    "    - y_scores: Predicted scores from the model (raw output probabilities or logits)\n",
    "    \"\"\"\n",
    "    # Convert tensors to numpy arrays if needed\n",
    "    if isinstance(y_true, torch.Tensor):\n",
    "        y_true = y_true.cpu().numpy()\n",
    "    if isinstance(y_scores, torch.Tensor):\n",
    "        y_scores = y_scores.cpu().numpy()\n",
    "    \n",
    "    # Compute FPR, TPR, and AUROC\n",
    "    fpr, tpr, thresholds = roc_curve(y_true, y_scores)\n",
    "    roc_auc = auc(fpr, tpr)\n",
    "    \n",
    "    # Plotting AUROC\n",
    "    plt.figure()\n",
    "    plt.plot(fpr, tpr, color='darkorange', lw=2, label=f'AUROC = {roc_auc:.2f}')\n",
    "    plt.plot([0, 1], [0, 1], color='navy', lw=2, linestyle='--')\n",
    "    plt.xlabel('False Positive Rate')\n",
    "    plt.ylabel('True Positive Rate')\n",
    "    plt.title('Receiver Operating Characteristic (ROC) Curve')\n",
    "    plt.legend(loc=\"lower right\")\n",
    "    plt.show()\n",
    "\n",
    "    return fpr, tpr, roc_auc"
   ]
  },
  {
   "cell_type": "code",
   "execution_count": 145,
   "id": "1c6d6974-0507-4ecf-8940-a21dfc7a538c",
   "metadata": {},
   "outputs": [],
   "source": [
    "with torch.no_grad():\n",
    "    y_scores = model(X_test_tensor).squeeze()  # Assuming output shape matches y_test_tensor"
   ]
  },
  {
   "cell_type": "code",
   "execution_count": 146,
   "id": "540ca55d-2c04-47fd-9e02-36a1c42f8876",
   "metadata": {},
   "outputs": [
    {
     "data": {
      "image/png": "[encoded data removed]",
      "text/plain": [
       "<Figure size 640x480 with 1 Axes>"
      ]
     },
     "metadata": {},
     "output_type": "display_data"
    },
    {
     "name": "stdout",
     "output_type": "stream",
     "text": [
      "AUC Score: 0.98\n"
     ]
    }
   ],
   "source": [
    "fpr, tpr, roc_auc = plot_auroc(y_test_tensor, y_scores)\n",
    "print(f\"AUC Score: {roc_auc:.2f}\")"
   ]
  },
  {
   "cell_type": "code",
   "execution_count": 147,
   "id": "521ac418-1c68-4be0-a83f-4464b7db17a0",
   "metadata": {},
   "outputs": [],
   "source": [
    "with torch.no_grad():\n",
    "    y_scores = model(X_test_tensor).numpy()  # Assuming output shape matches y_test_tensor"
   ]
  },
  {
   "cell_type": "code",
   "execution_count": 148,
   "id": "355a2af5-9805-42fc-8192-2041472d6575",
   "metadata": {},
   "outputs": [],
   "source": [
    "threshold = 0.5\n",
    "y_pred_custom = (y_scores >= threshold).astype(int)"
   ]
  },
  {
   "cell_type": "code",
   "execution_count": 149,
   "id": "b4fb9c81-daf5-45de-98b1-8b7eae8ca68e",
   "metadata": {},
   "outputs": [],
   "source": [
    "precision = precision_score(y_test, y_pred_custom)\n",
    "recall = recall_score(y_test, y_pred_custom)\n",
    "f1 = f1_score(y_test, y_pred_custom)"
   ]
  },
  {
   "cell_type": "code",
   "execution_count": 150,
   "id": "606745a1-8c55-4091-adbd-977bd50f7488",
   "metadata": {},
   "outputs": [
    {
     "name": "stdout",
     "output_type": "stream",
     "text": [
      "Precision (threshold=0.5): 0.99\n",
      "Recall (threshold=0.5): 0.93\n",
      "F1 Score (threshold=0.5): 0.96\n"
     ]
    }
   ],
   "source": [
    "print(f'Precision (threshold={threshold}): {precision:.2f}')\n",
    "print(f'Recall (threshold={threshold}): {recall:.2f}')\n",
    "print(f'F1 Score (threshold={threshold}): {f1:.2f}')"
   ]
  },
  {
   "cell_type": "code",
   "execution_count": 159,
   "id": "1d4d3692-6fb5-473d-914a-e77f91c001c8",
   "metadata": {},
   "outputs": [
    {
     "name": "stdout",
     "output_type": "stream",
     "text": [
      "\n",
      "Classification Report:\n",
      "              precision    recall  f1-score   support\n",
      "\n",
      "           0       0.93      0.99      0.95        75\n",
      "           1       0.99      0.93      0.96        90\n",
      "\n",
      "    accuracy                           0.96       165\n",
      "   macro avg       0.96      0.96      0.96       165\n",
      "weighted avg       0.96      0.96      0.96       165\n",
      "\n"
     ]
    }
   ],
   "source": [
    "# Generate classification report and confusion matrix\n",
    "print(\"\\nClassification Report:\")\n",
    "print(classification_report(y_test, y_pred_custom))"
   ]
  },
  {
   "cell_type": "code",
   "execution_count": 160,
   "id": "9ca491c5-cf94-4e4e-8072-ecb2f9a21449",
   "metadata": {},
   "outputs": [
    {
     "name": "stdout",
     "output_type": "stream",
     "text": [
      "\n",
      "Confusion Matrix:\n",
      "[[74  1]\n",
      " [ 6 84]]\n"
     ]
    }
   ],
   "source": [
    "print(\"\\nConfusion Matrix:\")\n",
    "print(confusion_matrix(y_test, y_pred_custom))"
   ]
  }
 ],
 "metadata": {
  "kernelspec": {
   "display_name": "Python 3 (ipykernel)",
   "language": "python",
   "name": "python3"
  },
  "language_info": {
   "codemirror_mode": {
    "name": "ipython",
    "version": 3
   },
   "file_extension": ".py",
   "mimetype": "text/x-python",
   "name": "python",
   "nbconvert_exporter": "python",
   "pygments_lexer": "ipython3",
   "version": "3.10.12"
  }
 },
 "nbformat": 4,
 "nbformat_minor": 5
}
