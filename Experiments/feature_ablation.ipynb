{
 "cells": [
  {
   "cell_type": "code",
   "execution_count": 301,
   "id": "94799139-de72-497c-8ecb-478e49fa8f3b",
   "metadata": {},
   "outputs": [],
   "source": [
    "import torch\n",
    "import re\n",
    "import json\n",
    "import pandas as pd\n",
    "import random\n",
    "import time\n",
    "import math\n",
    "import os\n",
    "import numpy as np\n",
    "import torch.nn as nn\n",
    "import torch.optim as optim\n",
    "from itertools import combinations\n",
    "import matplotlib.pyplot as plt\n",
    "from collections import Counter\n",
    "from sklearn.metrics import roc_curve, auc\n",
    "from torch.utils.data import Dataset, DataLoader, TensorDataset\n",
    "from sklearn.model_selection import train_test_split\n",
    "from sklearn.metrics import roc_curve, precision_score, recall_score, f1_score\n",
    "from sklearn.metrics import accuracy_score, confusion_matrix, classification_report, roc_auc_score, roc_curve"
   ]
  },
  {
   "cell_type": "code",
   "execution_count": 302,
   "id": "bc92ca6c-aabe-4ced-897b-fa4121b7d48e",
   "metadata": {
    "scrolled": true
   },
   "outputs": [],
   "source": [
    "path = '/home/user/Videos/inference/feature_split/chng.xlsx'\n",
    "formulas = pd.read_excel(path) "
   ]
  },
  {
   "cell_type": "code",
   "execution_count": 303,
   "id": "fae499a8-ad6e-4fff-b568-eaad46007089",
   "metadata": {},
   "outputs": [
    {
     "data": {
      "text/plain": [
       "Index(['avg', 'rel_count', 'qnt_count_tenprcnt', 'no_of_sentence_have_quant',\n",
       "       'temporal_sim_qs', 'trust_temporal', 'count_presence', 'count_agree',\n",
       "       'temporal_agree', 'llm_dec', 'titles', 'trust', 'label'],\n",
       "      dtype='object')"
      ]
     },
     "execution_count": 303,
     "metadata": {},
     "output_type": "execute_result"
    }
   ],
   "source": [
    "formulas.columns"
   ]
  },
  {
   "cell_type": "code",
   "execution_count": 304,
   "id": "5dbd8e43-7bcc-4d1b-8aa4-3187cc5e84c0",
   "metadata": {},
   "outputs": [],
   "source": [
    "llm = ['llm_dec','titles','trust']\n",
    "temporal = ['temporal_sim_qs','trust_temporal','temporal_agree']\n",
    "quant = ['qnt_count_tenprcnt','no_of_sentence_have_quant','count_agree']\n",
    "semantic = ['avg','rel_count']"
   ]
  },
  {
   "cell_type": "code",
   "execution_count": 305,
   "id": "32828b0a-e17a-426d-ae9f-a5653a2069e3",
   "metadata": {},
   "outputs": [],
   "source": [
    "lists = [semantic, quant, temporal, llm]\n",
    "\n",
    "# Generate all possible pairs\n",
    "pairs = list(combinations(lists, 3))"
   ]
  },
  {
   "cell_type": "code",
   "execution_count": 306,
   "id": "d064a4d0-ac17-4b5e-8b60-e3766ddde7b8",
   "metadata": {},
   "outputs": [
    {
     "data": {
      "text/plain": [
       "4"
      ]
     },
     "execution_count": 306,
     "metadata": {},
     "output_type": "execute_result"
    }
   ],
   "source": [
    "len(pairs)"
   ]
  },
  {
   "cell_type": "code",
   "execution_count": 307,
   "id": "f694c36e-6371-4fce-b3a7-a1d7c2030ab2",
   "metadata": {},
   "outputs": [],
   "source": [
    "t = 3"
   ]
  },
  {
   "cell_type": "code",
   "execution_count": 308,
   "id": "d59e1e5e-55bc-4e9a-9338-26fd66df7ffa",
   "metadata": {},
   "outputs": [
    {
     "data": {
      "text/plain": [
       "(['qnt_count_tenprcnt', 'no_of_sentence_have_quant', 'count_agree'],\n",
       " ['temporal_sim_qs', 'trust_temporal', 'temporal_agree'],\n",
       " ['llm_dec', 'titles', 'trust'])"
      ]
     },
     "execution_count": 308,
     "metadata": {},
     "output_type": "execute_result"
    }
   ],
   "source": [
    "pairs[t]"
   ]
  },
  {
   "cell_type": "code",
   "execution_count": 309,
   "id": "de1a8dc7-a0e8-4209-a07f-3c18391df754",
   "metadata": {},
   "outputs": [
    {
     "data": {
      "text/plain": [
       "['qnt_count_tenprcnt', 'no_of_sentence_have_quant', 'count_agree']"
      ]
     },
     "execution_count": 309,
     "metadata": {},
     "output_type": "execute_result"
    }
   ],
   "source": [
    "pairs[t][0]"
   ]
  },
  {
   "cell_type": "code",
   "execution_count": 310,
   "id": "db8b8ab7-72da-4e6f-9263-407f4f6324c7",
   "metadata": {},
   "outputs": [
    {
     "data": {
      "text/plain": [
       "['temporal_sim_qs', 'trust_temporal', 'temporal_agree']"
      ]
     },
     "execution_count": 310,
     "metadata": {},
     "output_type": "execute_result"
    }
   ],
   "source": [
    "pairs[t][1]"
   ]
  },
  {
   "cell_type": "code",
   "execution_count": 311,
   "id": "775718fb-b714-48c2-9dd4-ce4dbf9fcd0f",
   "metadata": {},
   "outputs": [
    {
     "data": {
      "text/plain": [
       "['llm_dec', 'titles', 'trust']"
      ]
     },
     "execution_count": 311,
     "metadata": {},
     "output_type": "execute_result"
    }
   ],
   "source": [
    "pairs[t][2]"
   ]
  },
  {
   "cell_type": "code",
   "execution_count": 312,
   "id": "6a5b5fc5-b5dd-4a03-b2d9-b45ea80e6463",
   "metadata": {},
   "outputs": [],
   "source": [
    "data = formulas[pairs[t][0]+pairs[t][1]+pairs[t][2]+['label']]"
   ]
  },
  {
   "cell_type": "code",
   "execution_count": 313,
   "id": "0c0a7ae6-72bc-4d6e-aaf4-9c99cb3d8c25",
   "metadata": {},
   "outputs": [],
   "source": [
    "# Combination - quant + LLM + temporal"
   ]
  },
  {
   "cell_type": "code",
   "execution_count": 314,
   "id": "fad40889-7f2d-4d1d-944e-c803a1c1a756",
   "metadata": {},
   "outputs": [
    {
     "data": {
      "text/html": [
       "<div>\n",
       "<style scoped>\n",
       "    .dataframe tbody tr th:only-of-type {\n",
       "        vertical-align: middle;\n",
       "    }\n",
       "\n",
       "    .dataframe tbody tr th {\n",
       "        vertical-align: top;\n",
       "    }\n",
       "\n",
       "    .dataframe thead th {\n",
       "        text-align: right;\n",
       "    }\n",
       "</style>\n",
       "<table border=\"1\" class=\"dataframe\">\n",
       "  <thead>\n",
       "    <tr style=\"text-align: right;\">\n",
       "      <th></th>\n",
       "      <th>qnt_count_tenprcnt</th>\n",
       "      <th>no_of_sentence_have_quant</th>\n",
       "      <th>count_agree</th>\n",
       "      <th>temporal_sim_qs</th>\n",
       "      <th>trust_temporal</th>\n",
       "      <th>temporal_agree</th>\n",
       "      <th>llm_dec</th>\n",
       "      <th>titles</th>\n",
       "      <th>trust</th>\n",
       "      <th>label</th>\n",
       "    </tr>\n",
       "  </thead>\n",
       "  <tbody>\n",
       "    <tr>\n",
       "      <th>0</th>\n",
       "      <td>6</td>\n",
       "      <td>6</td>\n",
       "      <td>10</td>\n",
       "      <td>6</td>\n",
       "      <td>0.545455</td>\n",
       "      <td>6</td>\n",
       "      <td>1</td>\n",
       "      <td>0.571429</td>\n",
       "      <td>0.5</td>\n",
       "      <td>1</td>\n",
       "    </tr>\n",
       "    <tr>\n",
       "      <th>1</th>\n",
       "      <td>6</td>\n",
       "      <td>6</td>\n",
       "      <td>10</td>\n",
       "      <td>6</td>\n",
       "      <td>0.545455</td>\n",
       "      <td>6</td>\n",
       "      <td>1</td>\n",
       "      <td>0.571429</td>\n",
       "      <td>0.5</td>\n",
       "      <td>1</td>\n",
       "    </tr>\n",
       "    <tr>\n",
       "      <th>2</th>\n",
       "      <td>1</td>\n",
       "      <td>1</td>\n",
       "      <td>1</td>\n",
       "      <td>1</td>\n",
       "      <td>0.500000</td>\n",
       "      <td>1</td>\n",
       "      <td>1</td>\n",
       "      <td>1.000000</td>\n",
       "      <td>1.0</td>\n",
       "      <td>1</td>\n",
       "    </tr>\n",
       "    <tr>\n",
       "      <th>3</th>\n",
       "      <td>2</td>\n",
       "      <td>2</td>\n",
       "      <td>2</td>\n",
       "      <td>1</td>\n",
       "      <td>0.500000</td>\n",
       "      <td>1</td>\n",
       "      <td>1</td>\n",
       "      <td>1.000000</td>\n",
       "      <td>1.0</td>\n",
       "      <td>1</td>\n",
       "    </tr>\n",
       "    <tr>\n",
       "      <th>4</th>\n",
       "      <td>2</td>\n",
       "      <td>2</td>\n",
       "      <td>2</td>\n",
       "      <td>2</td>\n",
       "      <td>0.000000</td>\n",
       "      <td>2</td>\n",
       "      <td>1</td>\n",
       "      <td>0.000000</td>\n",
       "      <td>0.0</td>\n",
       "      <td>1</td>\n",
       "    </tr>\n",
       "  </tbody>\n",
       "</table>\n",
       "</div>"
      ],
      "text/plain": [
       "   qnt_count_tenprcnt  no_of_sentence_have_quant  count_agree  \\\n",
       "0                   6                          6           10   \n",
       "1                   6                          6           10   \n",
       "2                   1                          1            1   \n",
       "3                   2                          2            2   \n",
       "4                   2                          2            2   \n",
       "\n",
       "   temporal_sim_qs  trust_temporal  temporal_agree  llm_dec    titles  trust  \\\n",
       "0                6        0.545455               6        1  0.571429    0.5   \n",
       "1                6        0.545455               6        1  0.571429    0.5   \n",
       "2                1        0.500000               1        1  1.000000    1.0   \n",
       "3                1        0.500000               1        1  1.000000    1.0   \n",
       "4                2        0.000000               2        1  0.000000    0.0   \n",
       "\n",
       "   label  \n",
       "0      1  \n",
       "1      1  \n",
       "2      1  \n",
       "3      1  \n",
       "4      1  "
      ]
     },
     "execution_count": 314,
     "metadata": {},
     "output_type": "execute_result"
    }
   ],
   "source": [
    "data.head()"
   ]
  },
  {
   "cell_type": "code",
   "execution_count": 315,
   "id": "99cb9f0c-c890-4f09-8835-a0202da81d95",
   "metadata": {},
   "outputs": [
    {
     "data": {
      "text/plain": [
       "(1665, 10)"
      ]
     },
     "execution_count": 315,
     "metadata": {},
     "output_type": "execute_result"
    }
   ],
   "source": [
    "data.shape"
   ]
  },
  {
   "cell_type": "code",
   "execution_count": 316,
   "id": "11acc3bf-42b6-474a-a435-d9bc3900147b",
   "metadata": {},
   "outputs": [],
   "source": [
    "result = data"
   ]
  },
  {
   "cell_type": "code",
   "execution_count": 317,
   "id": "13907a4f-6f9e-4fb0-94b6-27b090f3d6d7",
   "metadata": {},
   "outputs": [],
   "source": [
    "y = result['label']\n",
    "X = result.drop(['label'],axis=1)"
   ]
  },
  {
   "cell_type": "code",
   "execution_count": 318,
   "id": "78cd1f1f-ed34-4332-b639-5e8b21eb0178",
   "metadata": {},
   "outputs": [],
   "source": [
    "X_train, X_test, y_train, y_test = train_test_split(X, y, test_size=0.1, random_state=42)"
   ]
  },
  {
   "cell_type": "code",
   "execution_count": 319,
   "id": "a94e8c6d-d27a-45b0-a53e-33333dde1979",
   "metadata": {},
   "outputs": [
    {
     "data": {
      "text/plain": [
       "(1498, 9)"
      ]
     },
     "execution_count": 319,
     "metadata": {},
     "output_type": "execute_result"
    }
   ],
   "source": [
    "X_train.shape"
   ]
  },
  {
   "cell_type": "code",
   "execution_count": 320,
   "id": "69366065-bd24-40b0-9995-bac2fc75185b",
   "metadata": {},
   "outputs": [],
   "source": [
    "X_train = X_train.values if isinstance(X_train, pd.DataFrame) else X_train\n",
    "y_train = y_train.values.reshape(-1, 1) if isinstance(y_train, pd.Series) else y_train\n",
    "X_test = X_test.values if isinstance(X_test, pd.DataFrame) else X_test\n",
    "y_test = y_test.values.reshape(-1, 1) if isinstance(y_test, pd.Series) else y_test"
   ]
  },
  {
   "cell_type": "code",
   "execution_count": 321,
   "id": "ce4ee44a-ce22-43e2-a594-9200df606880",
   "metadata": {},
   "outputs": [],
   "source": [
    "X_train_tensor = torch.tensor(X_train, dtype=torch.float32)\n",
    "y_train_tensor = torch.tensor(y_train, dtype=torch.float32)\n",
    "X_test_tensor = torch.tensor(X_test, dtype=torch.float32)\n",
    "y_test_tensor = torch.tensor(y_test, dtype=torch.float32)"
   ]
  },
  {
   "cell_type": "code",
   "execution_count": 322,
   "id": "0b3f6683-dd6e-4f32-bab0-8a7f6f3f4e6c",
   "metadata": {},
   "outputs": [],
   "source": [
    "test_data = TensorDataset(X_test_tensor, y_test_tensor)\n",
    "test_loader = DataLoader(test_data, batch_size=32, shuffle=False)"
   ]
  },
  {
   "cell_type": "code",
   "execution_count": 323,
   "id": "9765d6f3-e44c-408e-9240-d992817aa8ae",
   "metadata": {},
   "outputs": [],
   "source": [
    "train_data = TensorDataset(X_train_tensor, y_train_tensor)\n",
    "train_loader = DataLoader(train_data, batch_size=32, shuffle=True)"
   ]
  },
  {
   "cell_type": "code",
   "execution_count": 324,
   "id": "54aa7d86-ea25-435d-8b22-df9077ae42d1",
   "metadata": {},
   "outputs": [
    {
     "data": {
      "text/plain": [
       "9"
      ]
     },
     "execution_count": 324,
     "metadata": {},
     "output_type": "execute_result"
    }
   ],
   "source": [
    "X_train.shape[1]"
   ]
  },
  {
   "cell_type": "code",
   "execution_count": 325,
   "id": "005347be-2650-4a67-a55a-7e88d5123d96",
   "metadata": {},
   "outputs": [],
   "source": [
    "class NeuralNetwork(nn.Module):\n",
    "    def __init__(self):\n",
    "        super(NeuralNetwork, self).__init__()\n",
    "\n",
    "        # Define image classification layers\n",
    "        self.image_classification_layer = nn.Sequential(\n",
    "            nn.Linear(X_train.shape[1], 512),\n",
    "            nn.BatchNorm1d(512),\n",
    "            nn.ReLU(),\n",
    "            nn.Dropout(0.50),\n",
    "            nn.Linear(512, 512)\n",
    "        )\n",
    "\n",
    "        # Define final classification layer\n",
    "        self.final_classification_layer = nn.Sequential(\n",
    "            nn.Linear(512, 512),\n",
    "            nn.BatchNorm1d(512),\n",
    "            nn.ReLU(),\n",
    "            nn.Dropout(0.50),\n",
    "            nn.Linear(512, 1)\n",
    "        )\n",
    "\n",
    "    def forward(self, x):\n",
    "        x = x.view(x.size(0), -1)  # Flatten the input image tensor\n",
    "        image_embedding = self.image_classification_layer(x)\n",
    "        z = torch.cat([image_embedding], 1)\n",
    "        return torch.sigmoid(self.final_classification_layer(z))"
   ]
  },
  {
   "cell_type": "code",
   "execution_count": 326,
   "id": "a6d2647b-08e4-4c66-b1cb-348956727225",
   "metadata": {},
   "outputs": [],
   "source": [
    "model = NeuralNetwork()\n",
    "criteria = nn.BCELoss()  # Assuming binary classification\n",
    "optimizer = optim.Adam(model.parameters(), lr=0.01)"
   ]
  },
  {
   "cell_type": "code",
   "execution_count": 327,
   "id": "a76ea52d-844c-4446-8534-3ecbaf5ca657",
   "metadata": {},
   "outputs": [],
   "source": [
    "epochs = 100"
   ]
  },
  {
   "cell_type": "code",
   "execution_count": 328,
   "id": "5323c300-afd2-410e-96de-194ddcc6a9a7",
   "metadata": {},
   "outputs": [],
   "source": [
    "losses = []"
   ]
  },
  {
   "cell_type": "code",
   "execution_count": 329,
   "id": "117b530d-c1fb-48c0-a813-4edcefc8c720",
   "metadata": {
    "scrolled": true
   },
   "outputs": [
    {
     "name": "stdout",
     "output_type": "stream",
     "text": [
      "Epoch 1/100, Test Loss: 0.4101, Accuracy: 89.22%\n",
      "Epoch 2/100, Test Loss: 0.4099, Accuracy: 89.22%\n",
      "Epoch 3/100, Test Loss: 0.3354, Accuracy: 90.42%\n",
      "Epoch 4/100, Test Loss: 0.3456, Accuracy: 89.82%\n",
      "Epoch 5/100, Test Loss: 0.3285, Accuracy: 91.02%\n",
      "Epoch 6/100, Test Loss: 0.3504, Accuracy: 89.82%\n",
      "Epoch 7/100, Test Loss: 0.4296, Accuracy: 89.22%\n",
      "Epoch 8/100, Test Loss: 0.3451, Accuracy: 89.82%\n",
      "Epoch 9/100, Test Loss: 0.3306, Accuracy: 89.22%\n",
      "Epoch 10/100, Test Loss: 0.3286, Accuracy: 90.42%\n",
      "Epoch 11/100, Test Loss: 0.3686, Accuracy: 87.43%\n",
      "Epoch 12/100, Test Loss: 0.4614, Accuracy: 89.82%\n",
      "Epoch 13/100, Test Loss: 0.3781, Accuracy: 90.42%\n",
      "Epoch 14/100, Test Loss: 0.4003, Accuracy: 89.82%\n",
      "Epoch 15/100, Test Loss: 0.4799, Accuracy: 90.42%\n",
      "Epoch 16/100, Test Loss: 0.3315, Accuracy: 91.02%\n",
      "Epoch 17/100, Test Loss: 0.3494, Accuracy: 90.42%\n",
      "Epoch 18/100, Test Loss: 0.3180, Accuracy: 91.02%\n",
      "Epoch 19/100, Test Loss: 0.3089, Accuracy: 91.62%\n",
      "Epoch 20/100, Test Loss: 0.3402, Accuracy: 91.62%\n",
      "Epoch 21/100, Test Loss: 0.3181, Accuracy: 92.22%\n",
      "Epoch 22/100, Test Loss: 0.3807, Accuracy: 91.62%\n",
      "Epoch 23/100, Test Loss: 0.3434, Accuracy: 92.22%\n",
      "Epoch 24/100, Test Loss: 0.3534, Accuracy: 90.42%\n",
      "Epoch 25/100, Test Loss: 0.3887, Accuracy: 92.22%\n",
      "Epoch 26/100, Test Loss: 0.3139, Accuracy: 92.22%\n",
      "Epoch 27/100, Test Loss: 0.3823, Accuracy: 91.02%\n",
      "Epoch 28/100, Test Loss: 0.4692, Accuracy: 87.43%\n",
      "Epoch 29/100, Test Loss: 0.3370, Accuracy: 91.62%\n",
      "Epoch 30/100, Test Loss: 0.3501, Accuracy: 92.22%\n",
      "Epoch 31/100, Test Loss: 0.3431, Accuracy: 92.22%\n",
      "Epoch 32/100, Test Loss: 0.3297, Accuracy: 92.22%\n",
      "Epoch 33/100, Test Loss: 0.3285, Accuracy: 93.41%\n",
      "Epoch 34/100, Test Loss: 0.4681, Accuracy: 92.22%\n",
      "Epoch 35/100, Test Loss: 0.3796, Accuracy: 92.81%\n",
      "Epoch 36/100, Test Loss: 0.4810, Accuracy: 92.22%\n",
      "Epoch 37/100, Test Loss: 0.4120, Accuracy: 91.62%\n",
      "Epoch 38/100, Test Loss: 0.5197, Accuracy: 92.81%\n",
      "Epoch 39/100, Test Loss: 0.5276, Accuracy: 91.62%\n",
      "Epoch 40/100, Test Loss: 1.0484, Accuracy: 93.41%\n",
      "Epoch 41/100, Test Loss: 0.5831, Accuracy: 91.02%\n",
      "Epoch 42/100, Test Loss: 0.6378, Accuracy: 92.81%\n",
      "Epoch 43/100, Test Loss: 1.0542, Accuracy: 92.22%\n",
      "Epoch 44/100, Test Loss: 0.5472, Accuracy: 92.81%\n",
      "Epoch 45/100, Test Loss: 0.3926, Accuracy: 93.41%\n",
      "Epoch 46/100, Test Loss: 0.4691, Accuracy: 92.22%\n",
      "Epoch 47/100, Test Loss: 0.5013, Accuracy: 92.22%\n",
      "Epoch 48/100, Test Loss: 0.4973, Accuracy: 92.22%\n",
      "Epoch 49/100, Test Loss: 0.4823, Accuracy: 92.81%\n",
      "Epoch 50/100, Test Loss: 0.4074, Accuracy: 92.22%\n",
      "Epoch 51/100, Test Loss: 0.9538, Accuracy: 92.22%\n",
      "Epoch 52/100, Test Loss: 0.5224, Accuracy: 92.81%\n",
      "Epoch 53/100, Test Loss: 0.4769, Accuracy: 92.81%\n",
      "Epoch 54/100, Test Loss: 1.0496, Accuracy: 92.81%\n",
      "Epoch 55/100, Test Loss: 0.4918, Accuracy: 92.22%\n",
      "Epoch 56/100, Test Loss: 0.5929, Accuracy: 92.81%\n",
      "Epoch 57/100, Test Loss: 1.0181, Accuracy: 90.42%\n",
      "Epoch 58/100, Test Loss: 1.0240, Accuracy: 92.22%\n",
      "Epoch 59/100, Test Loss: 1.0464, Accuracy: 89.82%\n",
      "Epoch 60/100, Test Loss: 1.0637, Accuracy: 91.62%\n",
      "Epoch 61/100, Test Loss: 1.0680, Accuracy: 92.22%\n",
      "Epoch 62/100, Test Loss: 1.1117, Accuracy: 91.62%\n",
      "Epoch 63/100, Test Loss: 1.1388, Accuracy: 92.81%\n",
      "Epoch 64/100, Test Loss: 1.2319, Accuracy: 91.62%\n",
      "Epoch 65/100, Test Loss: 1.2461, Accuracy: 89.22%\n",
      "Epoch 66/100, Test Loss: 1.2283, Accuracy: 90.42%\n",
      "Epoch 67/100, Test Loss: 1.1822, Accuracy: 91.02%\n",
      "Epoch 68/100, Test Loss: 3.2294, Accuracy: 92.22%\n",
      "Epoch 69/100, Test Loss: 1.1852, Accuracy: 91.02%\n",
      "Epoch 70/100, Test Loss: 1.1268, Accuracy: 92.22%\n",
      "Epoch 71/100, Test Loss: 1.1467, Accuracy: 91.02%\n",
      "Epoch 72/100, Test Loss: 0.7046, Accuracy: 91.62%\n",
      "Epoch 73/100, Test Loss: 0.6161, Accuracy: 92.81%\n",
      "Epoch 74/100, Test Loss: 1.1368, Accuracy: 92.22%\n",
      "Epoch 75/100, Test Loss: 3.2937, Accuracy: 92.22%\n",
      "Epoch 76/100, Test Loss: 3.7913, Accuracy: 92.22%\n",
      "Epoch 77/100, Test Loss: 1.2101, Accuracy: 92.22%\n",
      "Epoch 78/100, Test Loss: 1.2643, Accuracy: 92.22%\n",
      "Epoch 79/100, Test Loss: 1.2392, Accuracy: 90.42%\n",
      "Epoch 80/100, Test Loss: 3.2704, Accuracy: 92.22%\n",
      "Epoch 81/100, Test Loss: 3.2917, Accuracy: 92.81%\n",
      "Epoch 82/100, Test Loss: 3.7499, Accuracy: 93.41%\n",
      "Epoch 83/100, Test Loss: 4.2466, Accuracy: 92.22%\n",
      "Epoch 84/100, Test Loss: 4.1960, Accuracy: 92.81%\n",
      "Epoch 85/100, Test Loss: 3.8042, Accuracy: 92.22%\n",
      "Epoch 86/100, Test Loss: 3.7996, Accuracy: 92.81%\n",
      "Epoch 87/100, Test Loss: 1.1797, Accuracy: 91.02%\n",
      "Epoch 88/100, Test Loss: 1.6734, Accuracy: 90.42%\n",
      "Epoch 89/100, Test Loss: 1.2547, Accuracy: 92.22%\n",
      "Epoch 90/100, Test Loss: 4.2086, Accuracy: 92.22%\n",
      "Epoch 91/100, Test Loss: 3.7225, Accuracy: 92.22%\n",
      "Epoch 92/100, Test Loss: 4.2153, Accuracy: 92.22%\n",
      "Epoch 93/100, Test Loss: 4.2431, Accuracy: 92.81%\n",
      "Epoch 94/100, Test Loss: 4.3349, Accuracy: 91.62%\n",
      "Epoch 95/100, Test Loss: 3.7345, Accuracy: 92.22%\n",
      "Epoch 96/100, Test Loss: 3.7951, Accuracy: 92.22%\n",
      "Epoch 97/100, Test Loss: 4.2500, Accuracy: 92.22%\n",
      "Epoch 98/100, Test Loss: 3.7892, Accuracy: 89.82%\n",
      "Epoch 99/100, Test Loss: 3.7678, Accuracy: 92.81%\n",
      "Epoch 100/100, Test Loss: 3.8187, Accuracy: 91.02%\n"
     ]
    }
   ],
   "source": [
    "for epoch in range(epochs):\n",
    "    for batch_X, batch_y in train_loader:\n",
    "        # Forward pass\n",
    "        outputs = model(batch_X)\n",
    "\n",
    "        # Compute the loss\n",
    "        batch_y = batch_y.view(-1, 1)\n",
    "        loss = criteria(outputs, batch_y.float())  # Assuming binary classification\n",
    "\n",
    "        # Backward pass and optimization\n",
    "        optimizer.zero_grad()\n",
    "        loss.backward()\n",
    "        optimizer.step()\n",
    "\n",
    "        # Print loss or other metrics if desired\n",
    "        # print(f\"Epoch {epoch+1}/{epochs}, Loss: {loss.item()}\")\n",
    "    losses.append(loss.item())\n",
    "    \n",
    "    model.eval()  # Set model to evaluation mode\n",
    "    test_loss = 0.0\n",
    "    correct = 0\n",
    "    total = 0\n",
    "\n",
    "    with torch.no_grad():\n",
    "        for test_X, test_y in test_loader:\n",
    "            outputs = model(test_X)\n",
    "            test_y = test_y.view(-1, 1)\n",
    "\n",
    "            # Compute test loss\n",
    "            loss = criteria(outputs, test_y.float())\n",
    "            test_loss += loss.item()\n",
    "\n",
    "            # Binary classification: convert outputs to predicted labels\n",
    "            predicted = (outputs >= 0.5).float()  # Assuming threshold of 0.5 for binary\n",
    "            correct += (predicted == test_y).sum().item()\n",
    "            total += test_y.size(0)\n",
    "\n",
    "    # Calculate average test loss and accuracy for the epoch\n",
    "    test_loss /= len(test_loader)\n",
    "    accuracy = 100 * correct / total\n",
    "    print(f\"Epoch {epoch+1}/{epochs}, Test Loss: {test_loss:.4f}, Accuracy: {accuracy:.2f}%\")"
   ]
  },
  {
   "cell_type": "code",
   "execution_count": 330,
   "id": "b952e14f-e515-49c5-8e1b-1ab6180fb336",
   "metadata": {},
   "outputs": [
    {
     "data": {
      "text/plain": [
       "NeuralNetwork(\n",
       "  (image_classification_layer): Sequential(\n",
       "    (0): Linear(in_features=9, out_features=512, bias=True)\n",
       "    (1): BatchNorm1d(512, eps=1e-05, momentum=0.1, affine=True, track_running_stats=True)\n",
       "    (2): ReLU()\n",
       "    (3): Dropout(p=0.5, inplace=False)\n",
       "    (4): Linear(in_features=512, out_features=512, bias=True)\n",
       "  )\n",
       "  (final_classification_layer): Sequential(\n",
       "    (0): Linear(in_features=512, out_features=512, bias=True)\n",
       "    (1): BatchNorm1d(512, eps=1e-05, momentum=0.1, affine=True, track_running_stats=True)\n",
       "    (2): ReLU()\n",
       "    (3): Dropout(p=0.5, inplace=False)\n",
       "    (4): Linear(in_features=512, out_features=1, bias=True)\n",
       "  )\n",
       ")"
      ]
     },
     "execution_count": 330,
     "metadata": {},
     "output_type": "execute_result"
    }
   ],
   "source": [
    "model.eval()"
   ]
  },
  {
   "cell_type": "code",
   "execution_count": 331,
   "id": "247b2ae5-79db-492d-b2b4-18fb283b7089",
   "metadata": {},
   "outputs": [],
   "source": [
    "def plot_auroc(y_true, y_scores):\n",
    "    \"\"\"\n",
    "    Plots the AUROC curve for given true labels and predicted scores.\n",
    "    \n",
    "    Parameters:\n",
    "    - y_true: Ground truth binary labels (0 or 1) as a tensor or array\n",
    "    - y_scores: Predicted scores from the model (raw output probabilities or logits)\n",
    "    \"\"\"\n",
    "    # Convert tensors to numpy arrays if needed\n",
    "    if isinstance(y_true, torch.Tensor):\n",
    "        y_true = y_true.cpu().numpy()\n",
    "    if isinstance(y_scores, torch.Tensor):\n",
    "        y_scores = y_scores.cpu().numpy()\n",
    "    \n",
    "    # Compute FPR, TPR, and AUROC\n",
    "    fpr, tpr, thresholds = roc_curve(y_true, y_scores)\n",
    "    roc_auc = auc(fpr, tpr)\n",
    "    \n",
    "    # Plotting AUROC\n",
    "    plt.figure()\n",
    "    plt.plot(fpr, tpr, color='darkorange', lw=2, label=f'AUROC = {roc_auc:.2f}')\n",
    "    plt.plot([0, 1], [0, 1], color='navy', lw=2, linestyle='--')\n",
    "    plt.xlabel('False Positive Rate')\n",
    "    plt.ylabel('True Positive Rate')\n",
    "    plt.title('Receiver Operating Characteristic (ROC) Curve')\n",
    "    plt.legend(loc=\"lower right\")\n",
    "    plt.show()\n",
    "\n",
    "    return fpr, tpr, roc_auc"
   ]
  },
  {
   "cell_type": "code",
   "execution_count": 332,
   "id": "6c45b72f-9381-43aa-84d3-5fcd415c6e21",
   "metadata": {},
   "outputs": [],
   "source": [
    "with torch.no_grad():\n",
    "    y_scores = model(X_test_tensor).squeeze()  # Assuming output shape matches y_test_tensor"
   ]
  },
  {
   "cell_type": "code",
   "execution_count": 333,
   "id": "7956e052-8298-4a6a-8d44-511f1df83c82",
   "metadata": {},
   "outputs": [
    {
     "data": {
      "image/png": "[encoded data removed]",
      "text/plain": [
       "<Figure size 640x480 with 1 Axes>"
      ]
     },
     "metadata": {},
     "output_type": "display_data"
    },
    {
     "name": "stdout",
     "output_type": "stream",
     "text": [
      "AUC Score: 0.95\n"
     ]
    }
   ],
   "source": [
    "fpr, tpr, roc_auc = plot_auroc(y_test_tensor, y_scores)\n",
    "print(f\"AUC Score: {roc_auc:.2f}\")"
   ]
  },
  {
   "cell_type": "code",
   "execution_count": 334,
   "id": "893970dc-ef6f-428a-93a5-9b49af9f3c17",
   "metadata": {},
   "outputs": [],
   "source": [
    "with torch.no_grad():\n",
    "    y_scores = model(X_test_tensor).numpy()  # Assuming output shape matches y_test_tensor"
   ]
  },
  {
   "cell_type": "code",
   "execution_count": 335,
   "id": "94ca092b-8e3c-4b25-be17-3af2b791bd15",
   "metadata": {},
   "outputs": [],
   "source": [
    "threshold = 0.5\n",
    "y_pred_custom = (y_scores >= threshold).astype(int)"
   ]
  },
  {
   "cell_type": "code",
   "execution_count": 336,
   "id": "1b2cc9ca-41d3-44b4-be3f-43c6c569a432",
   "metadata": {},
   "outputs": [],
   "source": [
    "precision = precision_score(y_test, y_pred_custom)\n",
    "recall = recall_score(y_test, y_pred_custom)\n",
    "f1 = f1_score(y_test, y_pred_custom)"
   ]
  },
  {
   "cell_type": "code",
   "execution_count": 337,
   "id": "3fccc30e-351f-4be4-b296-73cbc38beaf5",
   "metadata": {},
   "outputs": [
    {
     "name": "stdout",
     "output_type": "stream",
     "text": [
      "Precision (threshold=0.5): 0.95\n",
      "Recall (threshold=0.5): 0.88\n",
      "F1 Score (threshold=0.5): 0.91\n"
     ]
    }
   ],
   "source": [
    "print(f'Precision (threshold={threshold}): {precision:.2f}')\n",
    "print(f'Recall (threshold={threshold}): {recall:.2f}')\n",
    "print(f'F1 Score (threshold={threshold}): {f1:.2f}')"
   ]
  },
  {
   "cell_type": "code",
   "execution_count": 338,
   "id": "24a62695-f176-496b-a856-f8ec1b156a61",
   "metadata": {},
   "outputs": [],
   "source": [
    "# Combination - quant + LLM + temporal"
   ]
  },
  {
   "cell_type": "code",
   "execution_count": null,
   "id": "fba42198-94e8-4c1f-bae5-1c39c01de4bd",
   "metadata": {},
   "outputs": [],
   "source": []
  },
  {
   "cell_type": "code",
   "execution_count": null,
   "id": "79682ca4-7b04-4cb8-9e22-9424c0df1840",
   "metadata": {},
   "outputs": [],
   "source": []
  }
 ],
 "metadata": {
  "kernelspec": {
   "display_name": "Python 3 (ipykernel)",
   "language": "python",
   "name": "python3"
  },
  "language_info": {
   "codemirror_mode": {
    "name": "ipython",
    "version": 3
   },
   "file_extension": ".py",
   "mimetype": "text/x-python",
   "name": "python",
   "nbconvert_exporter": "python",
   "pygments_lexer": "ipython3",
   "version": "3.10.12"
  }
 },
 "nbformat": 4,
 "nbformat_minor": 5
}
