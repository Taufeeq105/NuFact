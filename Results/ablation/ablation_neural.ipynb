{
 "cells": [
  {
   "cell_type": "code",
   "execution_count": 40,
   "id": "4c0a1c04-c7f9-4274-ae37-f311528fc63f",
   "metadata": {},
   "outputs": [],
   "source": [
    "import torch\n",
    "import re\n",
    "import json\n",
    "import pandas as pd\n",
    "import random\n",
    "import time\n",
    "import math\n",
    "import os\n",
    "import numpy as np\n",
    "import torch.nn as nn\n",
    "import torch.optim as optim\n",
    "import matplotlib.pyplot as plt\n",
    "from collections import Counter\n",
    "from sklearn.metrics import roc_curve, auc\n",
    "from torch.utils.data import Dataset, DataLoader, TensorDataset\n",
    "from sklearn.model_selection import train_test_split\n",
    "from sklearn.metrics import roc_curve, precision_score, recall_score, f1_score\n",
    "from sklearn.metrics import accuracy_score, confusion_matrix, classification_report, roc_auc_score, roc_curve"
   ]
  },
  {
   "cell_type": "code",
   "execution_count": 41,
   "id": "383b96e8-02e8-4297-a281-491e622d539d",
   "metadata": {},
   "outputs": [],
   "source": [
    "path = '/home/user/Videos/inference/ablation/new_ablation_train_data/data_pos.csv'\n",
    "pos = pd.read_csv(path)#,index_col=0)"
   ]
  },
  {
   "cell_type": "code",
   "execution_count": 42,
   "id": "727dc596-8280-4c69-853b-a7b0da539b8e",
   "metadata": {},
   "outputs": [],
   "source": [
    "path = '/home/user/Videos/inference/ablation/new_ablation_train_data/data_neg.csv'\n",
    "neg = pd.read_csv(path)#,index_col=0)"
   ]
  },
  {
   "cell_type": "code",
   "execution_count": 43,
   "id": "1dc59653-aaff-4f5a-a94b-199395bc8abf",
   "metadata": {},
   "outputs": [],
   "source": [
    "result = pd.concat([pos,neg], axis=0)"
   ]
  },
  {
   "cell_type": "code",
   "execution_count": 44,
   "id": "3605a5c5-adee-4c7d-a7cb-5b9084974bf7",
   "metadata": {},
   "outputs": [
    {
     "data": {
      "text/plain": [
       "array([1, 0])"
      ]
     },
     "execution_count": 44,
     "metadata": {},
     "output_type": "execute_result"
    }
   ],
   "source": [
    "result['label'].unique()"
   ]
  },
  {
   "cell_type": "code",
   "execution_count": 45,
   "id": "dfa51945-cfb0-4b71-bda1-cb1925de0ffa",
   "metadata": {},
   "outputs": [
    {
     "data": {
      "text/plain": [
       "(1716, 13)"
      ]
     },
     "execution_count": 45,
     "metadata": {},
     "output_type": "execute_result"
    }
   ],
   "source": [
    "result.shape"
   ]
  },
  {
   "cell_type": "code",
   "execution_count": 46,
   "id": "0c6c38c9-3f7d-45e3-b851-54f24a58ec51",
   "metadata": {},
   "outputs": [],
   "source": [
    "y = result['label']\n",
    "X = result.drop(['label'],axis=1)"
   ]
  },
  {
   "cell_type": "code",
   "execution_count": 47,
   "id": "14725c63-2d5a-4ed7-8325-52b67143f1b0",
   "metadata": {},
   "outputs": [],
   "source": [
    "X_train, X_test, y_train, y_test = train_test_split(X, y, test_size=0.05, random_state=42)"
   ]
  },
  {
   "cell_type": "code",
   "execution_count": 48,
   "id": "1ba67d62-5927-4196-90cc-0a7f8ee368d8",
   "metadata": {},
   "outputs": [],
   "source": [
    "X_train = X_train.values if isinstance(X_train, pd.DataFrame) else X_train\n",
    "y_train = y_train.values.reshape(-1, 1) if isinstance(y_train, pd.Series) else y_train\n",
    "X_test = X_test.values if isinstance(X_test, pd.DataFrame) else X_test\n",
    "y_test = y_test.values.reshape(-1, 1) if isinstance(y_test, pd.Series) else y_test"
   ]
  },
  {
   "cell_type": "code",
   "execution_count": 49,
   "id": "74e97627-109e-4533-8abc-75970c0921d8",
   "metadata": {},
   "outputs": [],
   "source": [
    "X_train_tensor = torch.tensor(X_train, dtype=torch.float32)\n",
    "y_train_tensor = torch.tensor(y_train, dtype=torch.float32)\n",
    "X_test_tensor = torch.tensor(X_test, dtype=torch.float32)\n",
    "y_test_tensor = torch.tensor(y_test, dtype=torch.float32)"
   ]
  },
  {
   "cell_type": "code",
   "execution_count": 50,
   "id": "b66cc88e-3981-474a-8a3b-4928a379b34f",
   "metadata": {},
   "outputs": [],
   "source": [
    "test_data = TensorDataset(X_test_tensor, y_test_tensor)\n",
    "test_loader = DataLoader(test_data, batch_size=32, shuffle=False)"
   ]
  },
  {
   "cell_type": "code",
   "execution_count": 51,
   "id": "a75b2d36-bd58-4edb-86ef-d8f4aa89c556",
   "metadata": {},
   "outputs": [],
   "source": [
    "train_data = TensorDataset(X_train_tensor, y_train_tensor)\n",
    "train_loader = DataLoader(train_data, batch_size=32, shuffle=True)"
   ]
  },
  {
   "cell_type": "code",
   "execution_count": 52,
   "id": "9eef906e-188f-4ea2-8c10-cc7617ff5ac3",
   "metadata": {},
   "outputs": [
    {
     "data": {
      "text/plain": [
       "12"
      ]
     },
     "execution_count": 52,
     "metadata": {},
     "output_type": "execute_result"
    }
   ],
   "source": [
    "X_train.shape[1]"
   ]
  },
  {
   "cell_type": "code",
   "execution_count": 53,
   "id": "7817bea2-c822-458d-9bf1-fab1a9c09954",
   "metadata": {},
   "outputs": [],
   "source": [
    "class NeuralNetwork(nn.Module):\n",
    "    def __init__(self):\n",
    "        super(NeuralNetwork, self).__init__()\n",
    "\n",
    "        # Define image classification layers\n",
    "        self.image_classification_layer = nn.Sequential(\n",
    "            nn.Linear(X_train.shape[1], 512),\n",
    "            nn.BatchNorm1d(512),\n",
    "            nn.ReLU(),\n",
    "            nn.Dropout(0.50),\n",
    "            nn.Linear(512, 512)\n",
    "        )\n",
    "\n",
    "        # Define final classification layer\n",
    "        self.final_classification_layer = nn.Sequential(\n",
    "            nn.Linear(512, 512),\n",
    "            nn.BatchNorm1d(512),\n",
    "            nn.ReLU(),\n",
    "            nn.Dropout(0.50),\n",
    "            nn.Linear(512, 1)\n",
    "        )\n",
    "\n",
    "    def forward(self, x):\n",
    "        x = x.view(x.size(0), -1)  # Flatten the input image tensor\n",
    "        image_embedding = self.image_classification_layer(x)\n",
    "        z = torch.cat([image_embedding], 1)\n",
    "        return torch.sigmoid(self.final_classification_layer(z))"
   ]
  },
  {
   "cell_type": "code",
   "execution_count": 54,
   "id": "cfaf3eb1-b1c9-49be-96ac-23cce49d033d",
   "metadata": {},
   "outputs": [],
   "source": [
    "model = NeuralNetwork()\n",
    "criteria = nn.BCELoss()  # Assuming binary classification\n",
    "optimizer = optim.Adam(model.parameters(), lr=0.01)"
   ]
  },
  {
   "cell_type": "code",
   "execution_count": 55,
   "id": "95f60d73-6d86-48e2-8548-acd87f7f0522",
   "metadata": {},
   "outputs": [],
   "source": [
    "epochs = 100"
   ]
  },
  {
   "cell_type": "code",
   "execution_count": 56,
   "id": "fc3b1a14-2389-48ab-8889-da8c697552ff",
   "metadata": {},
   "outputs": [],
   "source": [
    "losses = []"
   ]
  },
  {
   "cell_type": "code",
   "execution_count": 57,
   "id": "b6e20b1b-78bf-4488-b996-c516799f3a26",
   "metadata": {
    "scrolled": true
   },
   "outputs": [
    {
     "name": "stdout",
     "output_type": "stream",
     "text": [
      "Epoch 1/100, Test Loss: 0.3503, Accuracy: 88.37%\n",
      "Epoch 2/100, Test Loss: 0.3337, Accuracy: 87.21%\n",
      "Epoch 3/100, Test Loss: 0.3231, Accuracy: 86.05%\n",
      "Epoch 4/100, Test Loss: 0.3399, Accuracy: 88.37%\n",
      "Epoch 5/100, Test Loss: 0.3641, Accuracy: 90.70%\n",
      "Epoch 6/100, Test Loss: 0.3205, Accuracy: 93.02%\n",
      "Epoch 7/100, Test Loss: 0.3179, Accuracy: 90.70%\n",
      "Epoch 8/100, Test Loss: 0.3121, Accuracy: 89.53%\n",
      "Epoch 9/100, Test Loss: 0.3188, Accuracy: 93.02%\n",
      "Epoch 10/100, Test Loss: 0.3358, Accuracy: 89.53%\n",
      "Epoch 11/100, Test Loss: 0.3131, Accuracy: 93.02%\n",
      "Epoch 12/100, Test Loss: 0.3189, Accuracy: 89.53%\n",
      "Epoch 13/100, Test Loss: 0.3289, Accuracy: 89.53%\n",
      "Epoch 14/100, Test Loss: 0.3742, Accuracy: 90.70%\n",
      "Epoch 15/100, Test Loss: 0.3435, Accuracy: 89.53%\n",
      "Epoch 16/100, Test Loss: 0.3298, Accuracy: 90.70%\n",
      "Epoch 17/100, Test Loss: 0.3012, Accuracy: 88.37%\n",
      "Epoch 18/100, Test Loss: 0.3185, Accuracy: 88.37%\n",
      "Epoch 19/100, Test Loss: 0.3227, Accuracy: 90.70%\n",
      "Epoch 20/100, Test Loss: 0.3014, Accuracy: 91.86%\n",
      "Epoch 21/100, Test Loss: 0.2924, Accuracy: 93.02%\n",
      "Epoch 22/100, Test Loss: 0.2805, Accuracy: 89.53%\n",
      "Epoch 23/100, Test Loss: 0.3880, Accuracy: 86.05%\n",
      "Epoch 24/100, Test Loss: 0.3118, Accuracy: 88.37%\n",
      "Epoch 25/100, Test Loss: 0.2802, Accuracy: 90.70%\n",
      "Epoch 26/100, Test Loss: 0.2944, Accuracy: 90.70%\n",
      "Epoch 27/100, Test Loss: 0.3358, Accuracy: 89.53%\n",
      "Epoch 28/100, Test Loss: 0.3067, Accuracy: 90.70%\n",
      "Epoch 29/100, Test Loss: 0.3349, Accuracy: 90.70%\n",
      "Epoch 30/100, Test Loss: 0.3221, Accuracy: 89.53%\n",
      "Epoch 31/100, Test Loss: 0.3029, Accuracy: 89.53%\n",
      "Epoch 32/100, Test Loss: 0.2681, Accuracy: 90.70%\n",
      "Epoch 33/100, Test Loss: 0.2670, Accuracy: 87.21%\n",
      "Epoch 34/100, Test Loss: 0.2866, Accuracy: 90.70%\n",
      "Epoch 35/100, Test Loss: 0.2941, Accuracy: 89.53%\n",
      "Epoch 36/100, Test Loss: 0.2726, Accuracy: 89.53%\n",
      "Epoch 37/100, Test Loss: 0.3373, Accuracy: 89.53%\n",
      "Epoch 38/100, Test Loss: 0.3287, Accuracy: 86.05%\n",
      "Epoch 39/100, Test Loss: 0.2666, Accuracy: 89.53%\n",
      "Epoch 40/100, Test Loss: 0.2927, Accuracy: 89.53%\n",
      "Epoch 41/100, Test Loss: 0.3195, Accuracy: 88.37%\n",
      "Epoch 42/100, Test Loss: 0.3252, Accuracy: 88.37%\n",
      "Epoch 43/100, Test Loss: 0.3048, Accuracy: 88.37%\n",
      "Epoch 44/100, Test Loss: 0.3205, Accuracy: 89.53%\n",
      "Epoch 45/100, Test Loss: 0.3112, Accuracy: 90.70%\n",
      "Epoch 46/100, Test Loss: 0.2817, Accuracy: 90.70%\n",
      "Epoch 47/100, Test Loss: 0.2712, Accuracy: 90.70%\n",
      "Epoch 48/100, Test Loss: 0.3181, Accuracy: 90.70%\n",
      "Epoch 49/100, Test Loss: 0.2899, Accuracy: 88.37%\n",
      "Epoch 50/100, Test Loss: 0.3112, Accuracy: 90.70%\n",
      "Epoch 51/100, Test Loss: 0.3280, Accuracy: 89.53%\n",
      "Epoch 52/100, Test Loss: 0.4392, Accuracy: 89.53%\n",
      "Epoch 53/100, Test Loss: 0.3911, Accuracy: 89.53%\n",
      "Epoch 54/100, Test Loss: 0.5361, Accuracy: 89.53%\n",
      "Epoch 55/100, Test Loss: 0.3239, Accuracy: 89.53%\n",
      "Epoch 56/100, Test Loss: 0.3923, Accuracy: 89.53%\n",
      "Epoch 57/100, Test Loss: 0.2774, Accuracy: 91.86%\n",
      "Epoch 58/100, Test Loss: 0.3518, Accuracy: 89.53%\n",
      "Epoch 59/100, Test Loss: 0.3635, Accuracy: 90.70%\n",
      "Epoch 60/100, Test Loss: 0.3779, Accuracy: 90.70%\n",
      "Epoch 61/100, Test Loss: 0.3574, Accuracy: 88.37%\n",
      "Epoch 62/100, Test Loss: 0.3518, Accuracy: 89.53%\n",
      "Epoch 63/100, Test Loss: 0.4397, Accuracy: 88.37%\n",
      "Epoch 64/100, Test Loss: 0.3654, Accuracy: 89.53%\n",
      "Epoch 65/100, Test Loss: 0.4209, Accuracy: 90.70%\n",
      "Epoch 66/100, Test Loss: 0.4196, Accuracy: 90.70%\n",
      "Epoch 67/100, Test Loss: 0.4935, Accuracy: 88.37%\n",
      "Epoch 68/100, Test Loss: 0.6389, Accuracy: 89.53%\n",
      "Epoch 69/100, Test Loss: 0.7742, Accuracy: 90.70%\n",
      "Epoch 70/100, Test Loss: 0.3914, Accuracy: 91.86%\n",
      "Epoch 71/100, Test Loss: 0.3964, Accuracy: 91.86%\n",
      "Epoch 72/100, Test Loss: 0.4702, Accuracy: 90.70%\n",
      "Epoch 73/100, Test Loss: 0.4153, Accuracy: 90.70%\n",
      "Epoch 74/100, Test Loss: 0.4372, Accuracy: 91.86%\n",
      "Epoch 75/100, Test Loss: 0.5952, Accuracy: 89.53%\n",
      "Epoch 76/100, Test Loss: 0.4956, Accuracy: 88.37%\n",
      "Epoch 77/100, Test Loss: 0.4869, Accuracy: 90.70%\n",
      "Epoch 78/100, Test Loss: 0.4593, Accuracy: 90.70%\n",
      "Epoch 79/100, Test Loss: 0.3682, Accuracy: 89.53%\n",
      "Epoch 80/100, Test Loss: 0.6700, Accuracy: 89.53%\n",
      "Epoch 81/100, Test Loss: 0.4181, Accuracy: 90.70%\n",
      "Epoch 82/100, Test Loss: 0.5228, Accuracy: 90.70%\n",
      "Epoch 83/100, Test Loss: 0.5561, Accuracy: 93.02%\n",
      "Epoch 84/100, Test Loss: 0.7848, Accuracy: 90.70%\n",
      "Epoch 85/100, Test Loss: 0.4660, Accuracy: 90.70%\n",
      "Epoch 86/100, Test Loss: 0.3284, Accuracy: 89.53%\n",
      "Epoch 87/100, Test Loss: 0.3652, Accuracy: 90.70%\n",
      "Epoch 88/100, Test Loss: 0.4983, Accuracy: 90.70%\n",
      "Epoch 89/100, Test Loss: 0.4624, Accuracy: 89.53%\n",
      "Epoch 90/100, Test Loss: 0.5402, Accuracy: 91.86%\n",
      "Epoch 91/100, Test Loss: 0.5620, Accuracy: 91.86%\n",
      "Epoch 92/100, Test Loss: 0.6004, Accuracy: 91.86%\n",
      "Epoch 93/100, Test Loss: 0.8747, Accuracy: 90.70%\n",
      "Epoch 94/100, Test Loss: 0.3364, Accuracy: 91.86%\n",
      "Epoch 95/100, Test Loss: 0.4354, Accuracy: 90.70%\n",
      "Epoch 96/100, Test Loss: 0.4169, Accuracy: 89.53%\n",
      "Epoch 97/100, Test Loss: 0.5589, Accuracy: 90.70%\n",
      "Epoch 98/100, Test Loss: 0.6066, Accuracy: 88.37%\n",
      "Epoch 99/100, Test Loss: 0.6067, Accuracy: 88.37%\n",
      "Epoch 100/100, Test Loss: 0.5214, Accuracy: 90.70%\n"
     ]
    }
   ],
   "source": [
    "for epoch in range(epochs):\n",
    "    for batch_X, batch_y in train_loader:\n",
    "        # Forward pass\n",
    "        outputs = model(batch_X)\n",
    "\n",
    "        # Compute the loss\n",
    "        batch_y = batch_y.view(-1, 1)\n",
    "        loss = criteria(outputs, batch_y.float())  # Assuming binary classification\n",
    "\n",
    "        # Backward pass and optimization\n",
    "        optimizer.zero_grad()\n",
    "        loss.backward()\n",
    "        optimizer.step()\n",
    "\n",
    "        # Print loss or other metrics if desired\n",
    "        # print(f\"Epoch {epoch+1}/{epochs}, Loss: {loss.item()}\")\n",
    "    losses.append(loss.item())\n",
    "    \n",
    "    model.eval()  # Set model to evaluation mode\n",
    "    test_loss = 0.0\n",
    "    correct = 0\n",
    "    total = 0\n",
    "\n",
    "    with torch.no_grad():\n",
    "        for test_X, test_y in test_loader:\n",
    "            outputs = model(test_X)\n",
    "            test_y = test_y.view(-1, 1)\n",
    "\n",
    "            # Compute test loss\n",
    "            loss = criteria(outputs, test_y.float())\n",
    "            test_loss += loss.item()\n",
    "\n",
    "            # Binary classification: convert outputs to predicted labels\n",
    "            predicted = (outputs >= 0.5).float()  # Assuming threshold of 0.5 for binary\n",
    "            correct += (predicted == test_y).sum().item()\n",
    "            total += test_y.size(0)\n",
    "\n",
    "    # Calculate average test loss and accuracy for the epoch\n",
    "    test_loss /= len(test_loader)\n",
    "    accuracy = 100 * correct / total\n",
    "    print(f\"Epoch {epoch+1}/{epochs}, Test Loss: {test_loss:.4f}, Accuracy: {accuracy:.2f}%\")"
   ]
  },
  {
   "cell_type": "code",
   "execution_count": 58,
   "id": "8063d16a-6177-48e0-a4f8-ff0a5d08df13",
   "metadata": {},
   "outputs": [],
   "source": [
    "# X_test_tensor = torch.tensor(X_test, dtype=torch.float32)\n",
    "# y_test_tensor = torch.tensor(y_test, dtype=torch.float32)"
   ]
  },
  {
   "cell_type": "code",
   "execution_count": 59,
   "id": "331c215b-c3aa-4ec3-a5d6-149567cf9e4e",
   "metadata": {},
   "outputs": [
    {
     "data": {
      "text/plain": [
       "NeuralNetwork(\n",
       "  (image_classification_layer): Sequential(\n",
       "    (0): Linear(in_features=12, out_features=512, bias=True)\n",
       "    (1): BatchNorm1d(512, eps=1e-05, momentum=0.1, affine=True, track_running_stats=True)\n",
       "    (2): ReLU()\n",
       "    (3): Dropout(p=0.5, inplace=False)\n",
       "    (4): Linear(in_features=512, out_features=512, bias=True)\n",
       "  )\n",
       "  (final_classification_layer): Sequential(\n",
       "    (0): Linear(in_features=512, out_features=512, bias=True)\n",
       "    (1): BatchNorm1d(512, eps=1e-05, momentum=0.1, affine=True, track_running_stats=True)\n",
       "    (2): ReLU()\n",
       "    (3): Dropout(p=0.5, inplace=False)\n",
       "    (4): Linear(in_features=512, out_features=1, bias=True)\n",
       "  )\n",
       ")"
      ]
     },
     "execution_count": 59,
     "metadata": {},
     "output_type": "execute_result"
    }
   ],
   "source": [
    "model.eval()"
   ]
  },
  {
   "cell_type": "code",
   "execution_count": 60,
   "id": "e5d9d1c2-c0cc-4dab-aa07-7ad970c98edc",
   "metadata": {},
   "outputs": [],
   "source": [
    "def plot_auroc(y_true, y_scores):\n",
    "    \"\"\"\n",
    "    Plots the AUROC curve for given true labels and predicted scores.\n",
    "    \n",
    "    Parameters:\n",
    "    - y_true: Ground truth binary labels (0 or 1) as a tensor or array\n",
    "    - y_scores: Predicted scores from the model (raw output probabilities or logits)\n",
    "    \"\"\"\n",
    "    # Convert tensors to numpy arrays if needed\n",
    "    if isinstance(y_true, torch.Tensor):\n",
    "        y_true = y_true.cpu().numpy()\n",
    "    if isinstance(y_scores, torch.Tensor):\n",
    "        y_scores = y_scores.cpu().numpy()\n",
    "    \n",
    "    # Compute FPR, TPR, and AUROC\n",
    "    fpr, tpr, thresholds = roc_curve(y_true, y_scores)\n",
    "    roc_auc = auc(fpr, tpr)\n",
    "    \n",
    "    # Plotting AUROC\n",
    "    plt.figure()\n",
    "    plt.plot(fpr, tpr, color='darkorange', lw=2, label=f'AUROC = {roc_auc:.2f}')\n",
    "    plt.plot([0, 1], [0, 1], color='navy', lw=2, linestyle='--')\n",
    "    plt.xlabel('False Positive Rate')\n",
    "    plt.ylabel('True Positive Rate')\n",
    "    plt.title('Receiver Operating Characteristic (ROC) Curve')\n",
    "    plt.legend(loc=\"lower right\")\n",
    "    plt.show()\n",
    "\n",
    "    return fpr, tpr, roc_auc"
   ]
  },
  {
   "cell_type": "code",
   "execution_count": 61,
   "id": "1c6d6974-0507-4ecf-8940-a21dfc7a538c",
   "metadata": {},
   "outputs": [],
   "source": [
    "with torch.no_grad():\n",
    "    y_scores = model(X_test_tensor).squeeze()  # Assuming output shape matches y_test_tensor"
   ]
  },
  {
   "cell_type": "code",
   "execution_count": 62,
   "id": "540ca55d-2c04-47fd-9e02-36a1c42f8876",
   "metadata": {},
   "outputs": [
    {
     "data": {
      "image/png": "[encoded data removed]",
      "text/plain": [
       "<Figure size 640x480 with 1 Axes>"
      ]
     },
     "metadata": {},
     "output_type": "display_data"
    },
    {
     "name": "stdout",
     "output_type": "stream",
     "text": [
      "AUC Score: 0.94\n"
     ]
    }
   ],
   "source": [
    "fpr, tpr, roc_auc = plot_auroc(y_test_tensor, y_scores)\n",
    "print(f\"AUC Score: {roc_auc:.2f}\")"
   ]
  },
  {
   "cell_type": "code",
   "execution_count": 63,
   "id": "521ac418-1c68-4be0-a83f-4464b7db17a0",
   "metadata": {},
   "outputs": [],
   "source": [
    "with torch.no_grad():\n",
    "    y_scores = model(X_test_tensor).numpy()  # Assuming output shape matches y_test_tensor"
   ]
  },
  {
   "cell_type": "code",
   "execution_count": 64,
   "id": "355a2af5-9805-42fc-8192-2041472d6575",
   "metadata": {},
   "outputs": [],
   "source": [
    "threshold = 0.5\n",
    "y_pred_custom = (y_scores >= threshold).astype(int)"
   ]
  },
  {
   "cell_type": "code",
   "execution_count": 65,
   "id": "b4fb9c81-daf5-45de-98b1-8b7eae8ca68e",
   "metadata": {},
   "outputs": [],
   "source": [
    "precision = precision_score(y_test, y_pred_custom)\n",
    "recall = recall_score(y_test, y_pred_custom)\n",
    "f1 = f1_score(y_test, y_pred_custom)"
   ]
  },
  {
   "cell_type": "code",
   "execution_count": 66,
   "id": "606745a1-8c55-4091-adbd-977bd50f7488",
   "metadata": {},
   "outputs": [
    {
     "name": "stdout",
     "output_type": "stream",
     "text": [
      "Precision (threshold=0.5): 0.97\n",
      "Recall (threshold=0.5): 0.81\n",
      "F1 Score (threshold=0.5): 0.88\n"
     ]
    }
   ],
   "source": [
    "print(f'Precision (threshold={threshold}): {precision:.2f}')\n",
    "print(f'Recall (threshold={threshold}): {recall:.2f}')\n",
    "print(f'F1 Score (threshold={threshold}): {f1:.2f}')"
   ]
  },
  {
   "cell_type": "code",
   "execution_count": 67,
   "id": "1d4d3692-6fb5-473d-914a-e77f91c001c8",
   "metadata": {},
   "outputs": [
    {
     "name": "stdout",
     "output_type": "stream",
     "text": [
      "\n",
      "Classification Report:\n",
      "              precision    recall  f1-score   support\n",
      "\n",
      "           0       0.88      0.98      0.92        50\n",
      "           1       0.97      0.81      0.88        36\n",
      "\n",
      "    accuracy                           0.91        86\n",
      "   macro avg       0.92      0.89      0.90        86\n",
      "weighted avg       0.91      0.91      0.91        86\n",
      "\n"
     ]
    }
   ],
   "source": [
    "# Generate classification report and confusion matrix\n",
    "print(\"\\nClassification Report:\")\n",
    "print(classification_report(y_test, y_pred_custom))"
   ]
  },
  {
   "cell_type": "code",
   "execution_count": 68,
   "id": "9ca491c5-cf94-4e4e-8072-ecb2f9a21449",
   "metadata": {},
   "outputs": [
    {
     "name": "stdout",
     "output_type": "stream",
     "text": [
      "\n",
      "Confusion Matrix:\n",
      "[[49  1]\n",
      " [ 7 29]]\n"
     ]
    }
   ],
   "source": [
    "print(\"\\nConfusion Matrix:\")\n",
    "print(confusion_matrix(y_test, y_pred_custom))"
   ]
  },
  {
   "cell_type": "code",
   "execution_count": 69,
   "id": "2c9437a8-b07a-4fe4-9f74-9dc492e14847",
   "metadata": {},
   "outputs": [],
   "source": [
    "path1 = '/home/user/Videos/inference/ablation/samples_new/sample_o.csv'\n",
    "path2 = '/home/user/Videos/inference/ablation/samples_new/sample_p.csv'\n",
    "path3 = '/home/user/Videos/inference/ablation/samples_new/sample_s.csv'\n",
    "path4 = '/home/user/Videos/inference/ablation/samples_new/sample_pos.csv'\n",
    "sampled_o = pd.read_csv(path1)#,index_col=0)\n",
    "sampled_p = pd.read_csv(path2)#,index_col=0)\n",
    "sampled_s = pd.read_csv(path3)#,index_col=0)\n",
    "pos = pd.read_csv(path4)"
   ]
  },
  {
   "cell_type": "code",
   "execution_count": 70,
   "id": "cd1599d0-310f-43be-8836-812637cc1f6b",
   "metadata": {},
   "outputs": [],
   "source": [
    "# Assuming last column is the label, split data and labels\n",
    "def preprocess_data(df):\n",
    "    X = df.iloc[:, :-1].values  # All columns except the last\n",
    "    y = df.iloc[:, -1].values   # Last column as labels\n",
    "    return torch.tensor(X, dtype=torch.float32), torch.tensor(y, dtype=torch.float32)"
   ]
  },
  {
   "cell_type": "code",
   "execution_count": 71,
   "id": "fba1d115-6dbd-4521-b12c-29d07b88108e",
   "metadata": {},
   "outputs": [],
   "source": [
    "# Preprocess each dataset\n",
    "X_o, y_o = preprocess_data(sampled_o)\n",
    "X_s, y_s = preprocess_data(sampled_s)\n",
    "X_p, y_p = preprocess_data(sampled_p)\n",
    "X_pos, y_pos = preprocess_data(pos)"
   ]
  },
  {
   "cell_type": "code",
   "execution_count": 72,
   "id": "29753150-04e8-4cc9-9cc1-c4eaa53cbf3f",
   "metadata": {},
   "outputs": [],
   "source": [
    "model.eval()\n",
    "\n",
    "# Function to get model outputs\n",
    "def get_model_outputs(model, X):\n",
    "    with torch.no_grad():  # Disable gradient computation\n",
    "        outputs = model(X)\n",
    "    return outputs"
   ]
  },
  {
   "cell_type": "code",
   "execution_count": 73,
   "id": "6a74d2de-4b9b-4378-9db6-8d0ffb74aca4",
   "metadata": {},
   "outputs": [],
   "source": [
    "outputs_o = get_model_outputs(model, X_o)\n",
    "outputs_s = get_model_outputs(model, X_s)\n",
    "outputs_p = get_model_outputs(model, X_p)\n",
    "outputs_pos = get_model_outputs(model, X_pos)"
   ]
  },
  {
   "cell_type": "code",
   "execution_count": 74,
   "id": "30ddd832-22b2-4057-b728-16f10e8d8743",
   "metadata": {},
   "outputs": [],
   "source": [
    "# lst = (outputs_o >= 0.5).float().tolist()"
   ]
  },
  {
   "cell_type": "code",
   "execution_count": 75,
   "id": "1179a409-cddd-4bc9-b21e-6e8d6829c86f",
   "metadata": {},
   "outputs": [
    {
     "name": "stdout",
     "output_type": "stream",
     "text": [
      "[[1.0], [1.0], [1.0], [1.0], [1.0], [1.0], [1.0], [1.0], [1.0], [1.0], [1.0], [1.0], [1.0], [1.0], [0.0], [0.0], [1.0], [1.0], [1.0], [1.0], [1.0], [1.0], [1.0], [1.0], [1.0], [1.0], [1.0], [1.0], [1.0], [1.0], [1.0], [1.0], [1.0], [1.0], [1.0], [1.0], [1.0], [1.0], [0.0], [1.0]]\n",
      "92.5\n"
     ]
    }
   ],
   "source": [
    "lst = (outputs_pos >= 0.5).float().tolist()\n",
    "print(lst)\n",
    "f = [i[0] for i in lst if i[0]==1] \n",
    "print((len(f)/len(lst)*100))"
   ]
  },
  {
   "cell_type": "code",
   "execution_count": 76,
   "id": "c2fafee8-1cb1-4e7d-8d3e-177fb9bb6413",
   "metadata": {
    "scrolled": true
   },
   "outputs": [
    {
     "name": "stdout",
     "output_type": "stream",
     "text": [
      "[[0.0], [0.0], [0.0], [0.0], [0.0], [0.0], [0.0], [0.0], [0.0], [0.0], [0.0], [0.0], [0.0], [0.0], [0.0], [0.0], [0.0], [0.0], [0.0], [0.0], [0.0], [0.0], [0.0], [0.0], [0.0], [0.0], [0.0], [0.0], [0.0], [0.0], [0.0], [0.0], [0.0], [0.0], [0.0], [0.0], [0.0], [0.0], [0.0], [0.0]]\n",
      "100.0\n"
     ]
    }
   ],
   "source": [
    "lst = (outputs_o >= 0.5).float().tolist()\n",
    "print(lst)\n",
    "f = [i[0] for i in lst if i[0]==1] \n",
    "print(100 - (len(f)/len(lst)*100))"
   ]
  },
  {
   "cell_type": "code",
   "execution_count": 77,
   "id": "21aadf5d-0d91-4ff6-839a-526f35e6bc32",
   "metadata": {
    "scrolled": true
   },
   "outputs": [
    {
     "name": "stdout",
     "output_type": "stream",
     "text": [
      "90.0\n"
     ]
    }
   ],
   "source": [
    "lst = (outputs_s >= 0.5).float().tolist()\n",
    "f = [i[0] for i in lst if i[0]==1] \n",
    "print(100 - (len(f)/len(lst)*100))"
   ]
  },
  {
   "cell_type": "code",
   "execution_count": 78,
   "id": "9a24aa87-1c93-44a4-8213-abd678faf31f",
   "metadata": {},
   "outputs": [
    {
     "name": "stdout",
     "output_type": "stream",
     "text": [
      "95.0\n"
     ]
    }
   ],
   "source": [
    "lst = (outputs_p >= 0.5).float().tolist()\n",
    "f = [i[0] for i in lst if i[0]==1] \n",
    "print(100 - (len(f)/len(lst)*100))"
   ]
  },
  {
   "cell_type": "code",
   "execution_count": null,
   "id": "250040c9-de01-4994-b2e7-1573b5b46659",
   "metadata": {},
   "outputs": [],
   "source": []
  }
 ],
 "metadata": {
  "kernelspec": {
   "display_name": "Python 3 (ipykernel)",
   "language": "python",
   "name": "python3"
  },
  "language_info": {
   "codemirror_mode": {
    "name": "ipython",
    "version": 3
   },
   "file_extension": ".py",
   "mimetype": "text/x-python",
   "name": "python",
   "nbconvert_exporter": "python",
   "pygments_lexer": "ipython3",
   "version": "3.10.12"
  }
 },
 "nbformat": 4,
 "nbformat_minor": 5
}
